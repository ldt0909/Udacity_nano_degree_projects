{
 "cells": [
  {
   "cell_type": "markdown",
   "metadata": {
    "collapsed": true
   },
   "source": [
    "## Fraud Identification from Enron Email and Financial Data\n",
    "\n",
    "### Introduction\n",
    "In 2000, Enron was one of the largest companies in the United States. By 2002, it had collapsed into bankruptcy due to widespread corporate fraud. In the resulting Federal investigation, a significant amount of typically confidential information entered into the public record, including tens of thousands of emails and detailed financial data for top executives.\n",
    "\n",
    "### The goal\n",
    "The goal of the project is to use machine learning to build a predictive model to identity persons of interest (POI) who may be involved in the fraud, based on the financial and email data.In this I built a classifier on the training dataset, and then the classifier can be used to made predictions on the testing dataset\n",
    "\n",
    "### Dataset overview\n",
    "The original dataset contains 146 data points and 21 features. 18 of them are identified as POI, and the rest 128 are not POIs. The features fall into three major types, namely financial features such as “salary”, “bonus” email features such as “to messages”, “email address” and POI labels.The size of dataset is 2.23 GB."
   ]
  },
  {
   "cell_type": "code",
   "execution_count": 3,
   "metadata": {
    "collapsed": true
   },
   "outputs": [],
   "source": [
    "import pandas as pd\n",
    "import pickle\n",
    "import sys\n",
    "import numpy as np\n",
    "import sys \n",
    "import random\n",
    "import matplotlib.pyplot as plt\n",
    "from time import time\n",
    "from numpy import mean\n",
    "\n",
    "\n",
    "sys.path.append(\"../tools/\")"
   ]
  },
  {
   "cell_type": "code",
   "execution_count": 4,
   "metadata": {},
   "outputs": [
    {
     "name": "stderr",
     "output_type": "stream",
     "text": [
      "/Users/dantili/miniconda2/lib/python2.7/site-packages/sklearn/cross_validation.py:44: DeprecationWarning: This module was deprecated in version 0.18 in favor of the model_selection module into which all the refactored classes and functions are moved. Also note that the interface of the new CV iterators are different from that of this module. This module will be removed in 0.20.\n",
      "  \"This module will be removed in 0.20.\", DeprecationWarning)\n",
      "/Users/dantili/miniconda2/lib/python2.7/site-packages/sklearn/grid_search.py:43: DeprecationWarning: This module was deprecated in version 0.18 in favor of the model_selection module into which all the refactored classes and functions are moved. This module will be removed in 0.20.\n",
      "  DeprecationWarning)\n"
     ]
    }
   ],
   "source": [
    "# Importing SK-learn specific functions \n",
    "\n",
    "from sklearn.feature_selection import SelectKBest\n",
    "from sklearn.preprocessing import MinMaxScaler\n",
    "from sklearn import cross_validation\n",
    "from sklearn.metrics import *\n",
    "from sklearn.grid_search import GridSearchCV\n",
    "from sklearn.cross_validation import train_test_split\n",
    "from sklearn.naive_bayes import GaussianNB\n",
    "from sklearn.neighbors import KNeighborsClassifier\n",
    "from sklearn import svm\n",
    "from sklearn.ensemble import RandomForestClassifier\n",
    "from sklearn.pipeline import Pipeline\n",
    "from sklearn.tree import DecisionTreeClassifier \n",
    "\n",
    "from feature_format import featureFormat, targetFeatureSplit\n",
    "from tester import dump_classifier_and_data"
   ]
  },
  {
   "cell_type": "code",
   "execution_count": 5,
   "metadata": {
    "collapsed": true
   },
   "outputs": [],
   "source": [
    "with open('ud120-projects/final_project/final_project_dataset.pkl','rb') as f:\n",
    "    enron_data = pickle.load(f)"
   ]
  },
  {
   "cell_type": "markdown",
   "metadata": {},
   "source": [
    "## 1. Exploratory Data Analysis\n",
    "### Dataset Overview"
   ]
  },
  {
   "cell_type": "code",
   "execution_count": 6,
   "metadata": {},
   "outputs": [
    {
     "name": "stdout",
     "output_type": "stream",
     "text": [
      "Total number of people in dataset: 146\n",
      "Total number of features per person: 21\n"
     ]
    }
   ],
   "source": [
    "#Total number of people in dataset \n",
    "total_people = len(enron_data)\n",
    "print \"Total number of people in dataset:\",len(enron_data)\n",
    "\n",
    "#Total number of features per person\n",
    "Total_features_per_person = len(enron_data[\"ALLEN PHILLIP K\"])\n",
    "print \"Total number of features per person:\",Total_features_per_person"
   ]
  },
  {
   "cell_type": "code",
   "execution_count": 7,
   "metadata": {},
   "outputs": [
    {
     "data": {
      "text/plain": [
       "['salary',\n",
       " 'to_messages',\n",
       " 'deferral_payments',\n",
       " 'total_payments',\n",
       " 'exercised_stock_options',\n",
       " 'bonus',\n",
       " 'restricted_stock',\n",
       " 'shared_receipt_with_poi',\n",
       " 'restricted_stock_deferred',\n",
       " 'total_stock_value',\n",
       " 'expenses',\n",
       " 'loan_advances',\n",
       " 'from_messages',\n",
       " 'other',\n",
       " 'from_this_person_to_poi',\n",
       " 'poi',\n",
       " 'director_fees',\n",
       " 'deferred_income',\n",
       " 'long_term_incentive',\n",
       " 'email_address',\n",
       " 'from_poi_to_this_person']"
      ]
     },
     "execution_count": 7,
     "metadata": {},
     "output_type": "execute_result"
    }
   ],
   "source": [
    "enron_data[\"ALLEN PHILLIP K\"].keys()"
   ]
  },
  {
   "cell_type": "code",
   "execution_count": 8,
   "metadata": {
    "collapsed": true
   },
   "outputs": [],
   "source": [
    "features_list = ['poi', 'salary', 'deferral_payments', 'total_payments', 'loan_advances',\n",
    "                 'bonus', 'restricted_stock_deferred', 'deferred_income', 'total_stock_value',\n",
    "                 'expenses', 'exercised_stock_options', 'long_term_incentive',\n",
    "                 'restricted_stock', 'director_fees', 'to_messages', 'from_poi_to_this_person',\n",
    "                 'from_messages', 'from_this_person_to_poi', 'shared_receipt_with_poi']\n"
   ]
  },
  {
   "cell_type": "markdown",
   "metadata": {},
   "source": [
    "19 features are selected here. I excluded the feature \"other\" and \"email_address\" because \"other\" is the number of emails the people send to others not poi. For \"email_address\", it doesn't contain any new information other than the name."
   ]
  },
  {
   "cell_type": "markdown",
   "metadata": {},
   "source": [
    "### Number of POI"
   ]
  },
  {
   "cell_type": "code",
   "execution_count": 9,
   "metadata": {},
   "outputs": [
    {
     "name": "stdout",
     "output_type": "stream",
     "text": [
      "Number of poi in the dataset: 18\n",
      "Number of poi in the dataset who is not poi: 128\n"
     ]
    }
   ],
   "source": [
    "num_poi = 0\n",
    "for person in enron_data:\n",
    "    if enron_data[person][\"poi\"] == True:\n",
    "        num_poi += 1\n",
    "\n",
    "print \"Number of poi in the dataset:\",num_poi\n",
    "print \"Number of poi in the dataset who is not poi:\",len(enron_data)-num_poi"
   ]
  },
  {
   "cell_type": "markdown",
   "metadata": {},
   "source": [
    "### remove outliers"
   ]
  },
  {
   "cell_type": "code",
   "execution_count": 29,
   "metadata": {
    "collapsed": true
   },
   "outputs": [],
   "source": [
    "features_outlier = [\"salary\",\"bonus\"]\n",
    "data = featureFormat(enron_data,features_outlier)"
   ]
  },
  {
   "cell_type": "code",
   "execution_count": 25,
   "metadata": {},
   "outputs": [
    {
     "data": {
      "text/plain": [
       "array([[  365788.,   600000.],\n",
       "       [  267102.,  1200000.],\n",
       "       [  170941.,   350000.]])"
      ]
     },
     "execution_count": 25,
     "metadata": {},
     "output_type": "execute_result"
    }
   ],
   "source": [
    "data[:3]"
   ]
  },
  {
   "cell_type": "code",
   "execution_count": 28,
   "metadata": {},
   "outputs": [
    {
     "data": {
      "image/png": "[encoded data removed]",
      "text/plain": [
       "<matplotlib.figure.Figure at 0x116a4ce10>"
      ]
     },
     "metadata": {},
     "output_type": "display_data"
    }
   ],
   "source": [
    "for point in data:\n",
    "    salary = point[0]\n",
    "    bonus = point[1]\n",
    "    plt.scatter(salary,bonus)\n",
    "\n",
    "#labeling x-axis as salary\n",
    "plt.xlabel(\"Salary\")\n",
    "\n",
    "#labeling y-axis as bonus\n",
    "plt.ylabel(\"Bonus\")\n",
    "\n",
    "#Plotting scatterplot\n",
    "plt.show()"
   ]
  },
  {
   "cell_type": "markdown",
   "metadata": {},
   "source": [
    "From the scatterplot we can find out that there is an outlier which has a salary and bonus value way more than the rest of the data points.\n",
    "For salary I will take thrashold of 5 million dollars and see which data points of salary has a value greater than 5 million dollars."
   ]
  },
  {
   "cell_type": "code",
   "execution_count": 10,
   "metadata": {},
   "outputs": [
    {
     "name": "stdout",
     "output_type": "stream",
     "text": [
      "TOTAL\n"
     ]
    }
   ],
   "source": [
    "# Looking for an outlier \n",
    "for person,value in enron_data.items():\n",
    "    if value[\"salary\"] != \"NaN\" and value[\"salary\"] > 5000000:\n",
    "        print person"
   ]
  },
  {
   "cell_type": "markdown",
   "metadata": {},
   "source": [
    "So we found out that outlier is \"TOTAL\" which is not a person but a total of all the data points . And we will remove it."
   ]
  },
  {
   "cell_type": "markdown",
   "metadata": {},
   "source": [
    "### Removing outliers"
   ]
  },
  {
   "cell_type": "code",
   "execution_count": 11,
   "metadata": {},
   "outputs": [
    {
     "name": "stdout",
     "output_type": "stream",
     "text": [
      "Number of data points after removing outliers is: 145\n"
     ]
    }
   ],
   "source": [
    "enron_data.pop(\"TOTAL\",0)\n",
    "\n",
    "print \"Number of data points after removing outliers is:\",len(enron_data)"
   ]
  },
  {
   "cell_type": "markdown",
   "metadata": {},
   "source": [
    "### Scatterplot After removing outliers"
   ]
  },
  {
   "cell_type": "code",
   "execution_count": 13,
   "metadata": {},
   "outputs": [
    {
     "data": {
      "image/png": "[encoded data removed]",
      "text/plain": [
       "<matplotlib.figure.Figure at 0x10c2e4390>"
      ]
     },
     "metadata": {},
     "output_type": "display_data"
    }
   ],
   "source": [
    "features_outlier = [\"salary\",\"bonus\"]\n",
    "data = featureFormat(enron_data,features_outlier)\n",
    "for point in data:\n",
    "    salary = point[0]\n",
    "    bonus = point[1]\n",
    "    plt.scatter(salary,bonus)\n",
    "\n",
    "#labeling x-axis as salary\n",
    "plt.xlabel(\"Salary\")\n",
    "\n",
    "#labeling y-axis as bonus\n",
    "plt.ylabel(\"Bonus\")\n",
    "\n",
    "#Plotting scatterplot\n",
    "plt.show()"
   ]
  },
  {
   "cell_type": "markdown",
   "metadata": {},
   "source": [
    "From the dataset, we can see that 3 people recieved salary more than 1 million dollars annually. Around 5 people got more than half a million dollars as bonus."
   ]
  },
  {
   "cell_type": "markdown",
   "metadata": {},
   "source": [
    "## 2. Feature Engineering"
   ]
  },
  {
   "cell_type": "markdown",
   "metadata": {},
   "source": [
    "I started with all the features except “email_address” and “other”, because email address is a text string corresponding to a person’s name, “other” does not add any meaning to the analysis. I created two new features “from_poi_to_this_person_ratio” which measures how frequently a poi sends email to this person and “from_this_person_to_poi_ratio” which measures how frequently this person sends email to poi."
   ]
  },
  {
   "cell_type": "code",
   "execution_count": 14,
   "metadata": {
    "collapsed": true
   },
   "outputs": [],
   "source": [
    "#Creating new variables\n",
    "#from_poi_to_this_person_ratio \n",
    "\n",
    "#making copy of dataset\n",
    "dataset = enron_data\n",
    "\n",
    "#iterating through the dict\n",
    "for key,value in dataset.iteritems():\n",
    "    value[\"from_poi_to_this_person_ratio\"] = 0\n",
    "    if value[\"to_messages\"] and value[\"from_poi_to_this_person\"] !=\"NaN\" and value[\"from_poi_to_this_person\"] > 0:\n",
    "        value[\"from_poi_to_this_person\"] = float(value[\"from_poi_to_this_person\"])\n",
    "        value[\"to_messages\"] = float(value[\"to_messages\"])\n",
    "        value[\"from_poi_to_this_person_ratio\"] = value[\"from_poi_to_this_person\"]/value[\"to_messages\"]"
   ]
  },
  {
   "cell_type": "code",
   "execution_count": 15,
   "metadata": {
    "collapsed": true
   },
   "outputs": [],
   "source": [
    "#Creating new variables\n",
    "#from_this_person_to_poi \n",
    "\n",
    "#iterating through the dict\n",
    "for key,value in dataset.iteritems():\n",
    "    value[\"from_this_person_to_poi_ratio\"] = 0\n",
    "    if value[\"from_messages\"] and value[\"from_this_person_to_poi\"] !=\"NaN\" and value[\"from_this_person_to_poi\"] > 0:\n",
    "        value[\"from_this_person_to_poi\"] = float(value[\"from_this_person_to_poi\"])\n",
    "        value[\"from_messages\"] = float(value[\"from_messages\"])\n",
    "        value[\"from_this_person_to_poi_ratio\"] = value[\"from_this_person_to_poi\"]/value[\"from_messages\"]"
   ]
  },
  {
   "cell_type": "code",
   "execution_count": 16,
   "metadata": {
    "collapsed": true
   },
   "outputs": [],
   "source": [
    "#Appending these two new features to our feature list\n",
    "features_list.append('from_poi_to_this_person_ratio')\n",
    "features_list.append('from_this_person_to_poi_ratio')"
   ]
  },
  {
   "cell_type": "markdown",
   "metadata": {},
   "source": [
    "### Missing values"
   ]
  },
  {
   "cell_type": "code",
   "execution_count": 21,
   "metadata": {},
   "outputs": [
    {
     "name": "stdout",
     "output_type": "stream",
     "text": [
      "[0, 51, 107, 21, 142, 64, 128, 97, 20, 51, 44, 80, 36, 129, 59, 59, 59, 59, 59, 0, 0]\n",
      "['poi', 'salary', 'deferral_payments', 'total_payments', 'loan_advances', 'bonus', 'restricted_stock_deferred', 'deferred_income', 'total_stock_value', 'expenses', 'exercised_stock_options', 'long_term_incentive', 'restricted_stock', 'director_fees', 'to_messages', 'from_poi_to_this_person', 'from_messages', 'from_this_person_to_poi', 'shared_receipt_with_poi', 'from_poi_to_this_person_ratio', 'from_this_person_to_poi_ratio']\n"
     ]
    }
   ],
   "source": [
    "#creating a list of zeros having length equal to the number of features#creating \n",
    "nan = [0] * (len(features_list))\n",
    "\n",
    "for i, person in dataset.iteritems():\n",
    "    for j, feature in enumerate(features_list):\n",
    "        if person[feature] == 'NaN':\n",
    "            nan[j] += 1\n",
    "            \n",
    "print nan\n",
    "print features_list\n",
    "            "
   ]
  },
  {
   "cell_type": "markdown",
   "metadata": {},
   "source": [
    "### Extract features"
   ]
  },
  {
   "cell_type": "code",
   "execution_count": 22,
   "metadata": {
    "collapsed": true
   },
   "outputs": [],
   "source": [
    "#Extract features and labels from dataset#Extract  \n",
    "data = featureFormat(dataset, features_list, sort_keys = True)\n",
    "labels,features = targetFeatureSplit(data)"
   ]
  },
  {
   "cell_type": "markdown",
   "metadata": {},
   "source": [
    "### Feature Scaling\n",
    "I performed feature scaling using MinMaxScaler model to makes sure that the features would be weighted equally before applying to machine learning algorithm classifier."
   ]
  },
  {
   "cell_type": "code",
   "execution_count": 25,
   "metadata": {
    "collapsed": true
   },
   "outputs": [],
   "source": [
    "# Scale features via min-max# Scale f \n",
    "scaler = MinMaxScaler()\n",
    "features = scaler.fit_transform(features)"
   ]
  },
  {
   "cell_type": "markdown",
   "metadata": {},
   "source": [
    "## 3. Algorithms (model) Selection\n",
    "* Random Forest\n",
    "* K Nearest Neighbors\n",
    "\n",
    "I ran SelectKBest for all values from K1 to K20 manually for all selected models and recorded value on KBest, precision and recall, then generated the plots as follows."
   ]
  },
  {
   "cell_type": "markdown",
   "metadata": {},
   "source": [
    "### GaussianNB"
   ]
  },
  {
   "cell_type": "code",
   "execution_count": 35,
   "metadata": {},
   "outputs": [
    {
     "data": {
      "image/png": "[encoded data removed]",
      "text/plain": [
       "<matplotlib.figure.Figure at 0x10f99f150>"
      ]
     },
     "metadata": {},
     "output_type": "display_data"
    }
   ],
   "source": [
    "# Using SelectKBest with k having a value of 6\n",
    "selection=SelectKBest(k=6)\n",
    "selection.fit(features, labels)\n",
    "\n",
    "# GaussianNB feature selection\n",
    "kbest_g = [1,2,3,4,5,6,7,8,9,10,11,12,13,14,15,16,17,18,19,20]\n",
    "\n",
    "#Precision value respect to the value of k\n",
    "precision_g =[0.46, 0.47, 0.49, 0.5, 0.5, 0.52, 0.49, 0.49, 0.38, 0.37, 0.33, 0.32,0.33, 0.33, 0.33, 0.25, 0.24, 0.22, 0.23, 0.24]\n",
    "\n",
    "#recall value respect to the value of k\n",
    "recall_g = [0.32, 0.27, 0.35, 0.32, 0.33, 0.39, 0.38, 0.40, 0.32, 0.31, 0.31, 0.31,0.31, 0.31, 0.31, 0.34, 0.33, 0.28, 0.29, 0.50]\n",
    "\n",
    "#generating the line graph \n",
    "plt.plot(kbest_g, precision_g, 'b', label='precision')\n",
    "plt.plot(kbest_g, recall_g, 'g', label='recall')\n",
    "legend = plt.legend(loc='upper right', shadow=True)\n",
    "plt.xlabel('# of Features in SelectKBest')\n",
    "plt.ylabel('Cross-Validated Scores')\n",
    "plt.title('GaussianNB')\n",
    "plt.show()"
   ]
  },
  {
   "cell_type": "markdown",
   "metadata": {},
   "source": [
    "### Random Forest"
   ]
  },
  {
   "cell_type": "code",
   "execution_count": 32,
   "metadata": {},
   "outputs": [
    {
     "data": {
      "image/png": "[encoded data removed]",
      "text/plain": [
       "<matplotlib.figure.Figure at 0x10f972290>"
      ]
     },
     "metadata": {},
     "output_type": "display_data"
    }
   ],
   "source": [
    "# Random Forest feature selection\n",
    "kbest_r=[1,2,3,4,5,6,7,8,9,10,11,12,13,14,15,16,17,18,19,20]\n",
    "\n",
    "#Precision value respect to the value of k\n",
    "precision_r = [0.27, 0.31, 0.60, 0.50, 0.45, 0.49, 0.46, 0.41, 0.39, 0.44, 0.43, 0.43,0.48, 0.46, 0.46, 0.45, 0.44, 0.42, 0.41, 0.40]\n",
    "\n",
    "#recall value respect to the value of k\n",
    "recall_r = [0.28, 0.17, 0.31, 0.23, 0.22, 0.20, 0.17, 0.14, 0.14, 0.17, 0.15, 0.14,0.16, 0.14, 0.14, 0.14, 0.15, 0.13, 0.12, 0.12]\n",
    "\n",
    "#generating the line graph \n",
    "plt.plot(kbest_r, precision_r, 'b', label='precision')\n",
    "plt.plot(kbest_r, recall_r, 'g', label='recall')\n",
    "legend = plt.legend(loc='upper right', shadow=True)\n",
    "plt.xlabel('# of Features in SelectKBest')\n",
    "plt.ylabel('Cross-Validated Scores')\n",
    "plt.title('Random Forest')\n",
    "plt.show()"
   ]
  },
  {
   "cell_type": "markdown",
   "metadata": {},
   "source": [
    "From the line graph it can be seen that for k = 3 Random forest performance is the best, with Precision as 0.60 and Recall as 0.31\n"
   ]
  },
  {
   "cell_type": "markdown",
   "metadata": {},
   "source": [
    "### K Nearest Neighbors"
   ]
  },
  {
   "cell_type": "code",
   "execution_count": 33,
   "metadata": {},
   "outputs": [
    {
     "data": {
      "image/png": "[encoded data removed]",
      "text/plain": [
       "<matplotlib.figure.Figure at 0x10f89ec50>"
      ]
     },
     "metadata": {},
     "output_type": "display_data"
    }
   ],
   "source": [
    "#K Nearest Neighbors feature selection\n",
    "kbest_k=[1,2,3,4,5,6,7,8,9,10,11,12,13,14,15,16,17,18,19,20]\n",
    "\n",
    "#Precision value respect to the value of k\n",
    "precision_k = [0.68, 0.69, 0.64, 0.66, 0.64, 0.69, 0.61, 0.69, 0.64, 0.64, 0.64, 0.64,0.64, 0.64, 0.64, 0.64, 0.64, 0.63, 0.63, 0.64]\n",
    "\n",
    "#recall value respect to the value of k\n",
    "recall_k = [0.19, 0.19, 0.26, 0.27, 0.28, 0.26, 0.21, 0.26, 0.17, 0.17, 0.17, 0.17,0.17, 0.17, 0.17, 0.17, 0.17, 0.2, 0.2, 0.21]\n",
    "\n",
    "#generating the line graph \n",
    "plt.plot(kbest_k, precision_k, 'b', label='precision')\n",
    "plt.plot(kbest_k, recall_k, 'g', label='recall')\n",
    "legend = plt.legend(loc='upper right', shadow=True)\n",
    "plt.xlabel('# of Features in SelectKBest')\n",
    "plt.ylabel('Cross-Validated Scores')\n",
    "plt.title('K Nearest Neighbors')\n",
    "plt.show()"
   ]
  },
  {
   "cell_type": "markdown",
   "metadata": {},
   "source": [
    "From the line graph it can be seen that for k = 5 K Nearest Neighbors performance is the best, with Precision as 0.64 and Recall as 0.28\n",
    "\n",
    "After testing all three algorithms, I found that k6 is the sweet spot for GaussianNB. I ended up selecting Gaussian NB as the best performer because it has the better recall than the alternatives."
   ]
  },
  {
   "cell_type": "markdown",
   "metadata": {},
   "source": [
    "## 4.Parameter Tuning\n",
    "\n",
    "For parameter tuning, I used GridSearch."
   ]
  },
  {
   "cell_type": "code",
   "execution_count": 38,
   "metadata": {
    "collapsed": true
   },
   "outputs": [],
   "source": [
    "#coverting dataset again into labels and features#covertin \n",
    "#w.r.t. to new features list\n",
    "features_list = ['poi', 'exercised_stock_options', 'total_stock_value', 'bonus',\n",
    "                 'salary', 'from_this_person_to_poi_ratio', 'deferred_income']\n",
    "data = featureFormat(dataset, features_list, sort_keys = True)\n",
    "labels, features = targetFeatureSplit(data)\n",
    "\n",
    "features_train, features_test, labels_train, labels_test = train_test_split(features, labels, test_size=0.3, random_state=42)"
   ]
  },
  {
   "cell_type": "markdown",
   "metadata": {},
   "source": [
    "### GaussianNB\n",
    "For this part, I don't need to tune parameters."
   ]
  },
  {
   "cell_type": "code",
   "execution_count": 39,
   "metadata": {},
   "outputs": [
    {
     "name": "stdout",
     "output_type": "stream",
     "text": [
      "accuracy:  0.880952380952\n",
      "precision =  0.6\n",
      "recall =  0.5\n"
     ]
    }
   ],
   "source": [
    "# Classifier \n",
    "clf = GaussianNB()\n",
    "\n",
    "#Doing a fit operation with feature_train and label_train\n",
    "clf.fit(features_train, labels_train)\n",
    "\n",
    "#Making prediction with classifier on feature test\n",
    "pred = clf.predict(features_test)\n",
    "\n",
    "#Accuracy \n",
    "accu = accuracy_score(pred,labels_test)\n",
    "print \"accuracy: \", accu\n",
    "\n",
    "#precision value \n",
    "print 'precision = ', precision_score(labels_test,pred)\n",
    "\n",
    "#recall value\n",
    "print 'recall = ', recall_score(labels_test,pred)"
   ]
  },
  {
   "cell_type": "markdown",
   "metadata": {},
   "source": [
    "### KNN\n",
    "After Using GridSearch, best set of feature for KNN is :{\"n_neighbors\":[2, 5], \"p\":[2,3]}"
   ]
  },
  {
   "cell_type": "code",
   "execution_count": 40,
   "metadata": {},
   "outputs": [
    {
     "name": "stdout",
     "output_type": "stream",
     "text": [
      "accuracy:  0.857142857143\n",
      "precision =  0.0\n",
      "recall =  0.0\n"
     ]
    },
    {
     "name": "stderr",
     "output_type": "stream",
     "text": [
      "/Users/dantili/miniconda2/lib/python2.7/site-packages/sklearn/metrics/classification.py:1113: UndefinedMetricWarning: Precision is ill-defined and being set to 0.0 due to no predicted samples.\n",
      "  'precision', 'predicted', average, warn_for)\n"
     ]
    }
   ],
   "source": [
    "# KNeighbors classifier\n",
    "clf = KNeighborsClassifier()\n",
    "\n",
    "#splitting the data into features_train, features_test, labels_train, labels_test \n",
    "from sklearn.cross_validation import train_test_split\n",
    "features_train, features_test, labels_train, labels_test =train_test_split(features, labels, test_size=0.3, random_state=42)\n",
    "\n",
    "#applying GridSearchCV\n",
    "tuned_parameters_knn = {\"n_neighbors\":[2, 5], \"p\":[2,3]}\n",
    "clf=GridSearchCV(clf, tuned_parameters_knn)\n",
    "\n",
    "#fitting the features_train and labels_train to classifier\n",
    "clf.fit(features_train, labels_train)\n",
    "\n",
    "#Making prediction with classifier on feature test\n",
    "pred = clf.predict(features_test)\n",
    "\n",
    "#Accuracy \n",
    "accu = accuracy_score(pred,labels_test)\n",
    "print \"accuracy: \", accu\n",
    "\n",
    "#precision value \n",
    "print 'precision = ', precision_score(labels_test,pred)\n",
    "\n",
    "#recall value\n",
    "print 'recall = ', recall_score(labels_test,pred)"
   ]
  },
  {
   "cell_type": "markdown",
   "metadata": {},
   "source": [
    "### Random Forest\n",
    "The best set of feature is:\n",
    "\n",
    "{\"n_estimators\":[2, 3, 5], \"criterion\": ('gini', 'entropy')}"
   ]
  },
  {
   "cell_type": "code",
   "execution_count": 41,
   "metadata": {},
   "outputs": [
    {
     "name": "stdout",
     "output_type": "stream",
     "text": [
      "accuracy:  0.857142857143\n",
      "precision =  0.5\n",
      "recall =  0.166666666667\n"
     ]
    }
   ],
   "source": [
    "# Random Forest\n",
    "clf = RandomForestClassifier()\n",
    "\n",
    "#splitting the data into features_train, features_test, labels_train, labels_test \n",
    "from sklearn.cross_validation import train_test_split\n",
    "features_train, features_test, labels_train, labels_test = train_test_split(features, labels, test_size=0.3, random_state=42)\n",
    "\n",
    "#applying GridSearchCV\n",
    "tuned_parameters_ran = {\"n_estimators\":[2, 3, 5],  \"criterion\": ('gini', 'entropy')}\n",
    "clf = GridSearchCV(clf, tuned_parameters_ran)\n",
    "\n",
    "#fitting the features_train and labels_train to classifier\n",
    "clf.fit(features_train, labels_train)\n",
    "\n",
    "#Making prediction with classifier on feature test\n",
    "pred = clf.predict(features_test)\n",
    "\n",
    "#Accuracy\n",
    "accu = accuracy_score(pred,labels_test)\n",
    "print \"accuracy: \", accu\n",
    "\n",
    "#precision value \n",
    "print 'precision = ', precision_score(labels_test,pred)\n",
    "\n",
    "#recall value\n",
    "print 'recall = ', recall_score(labels_test,pred)"
   ]
  },
  {
   "cell_type": "markdown",
   "metadata": {},
   "source": [
    "## Summary"
   ]
  },
  {
   "cell_type": "markdown",
   "metadata": {},
   "source": [
    "For this project, I use precision and recall as the main evaluation metrics, Gaussian Naïve Bayes achieved the best results – precision: 0.6 and recall: 0.5. This is the final model as well. Intuitively, precision is the ability of the classifier not to label as positive a sample that is negative, and recall is the ability of the classifier to find all the positive samples. In this case, if my algorithm predicts a person is a POI, about 60% of time this person is indeed a POI. And my algorithm can identify a POI correctly about 50% of the time."
   ]
  },
  {
   "cell_type": "markdown",
   "metadata": {},
   "source": [
    "## References"
   ]
  },
  {
   "cell_type": "markdown",
   "metadata": {},
   "source": [
    "https://developers.google.com/machine-learning/crash-course/classification/precision-and-recall\n",
    "https://github.com/namansharma0992/Fraud-Identification-from-Enron-Email-and-Financial-Data/blob/master/Fraud%20Identification%20from%20Enron%20Email%20and%20Financial%20Data.ipynb\n",
    "https://github.com/thuyquach/Identify-Fraud-from-Enron-Email/blob/master/Identify%20Fraud%20from%20Enron%20Dataset.ipynb\n",
    "https://www.kaggle.com/wcukierski/enron-email-dataset\n"
   ]
  },
  {
   "cell_type": "code",
   "execution_count": null,
   "metadata": {
    "collapsed": true
   },
   "outputs": [],
   "source": []
  }
 ],
 "metadata": {
  "kernelspec": {
   "display_name": "Python 2",
   "language": "python",
   "name": "python2"
  },
  "language_info": {
   "codemirror_mode": {
    "name": "ipython",
    "version": 2
   },
   "file_extension": ".py",
   "mimetype": "text/x-python",
   "name": "python",
   "nbconvert_exporter": "python",
   "pygments_lexer": "ipython2",
   "version": "2.7.13"
  }
 },
 "nbformat": 4,
 "nbformat_minor": 2
}
